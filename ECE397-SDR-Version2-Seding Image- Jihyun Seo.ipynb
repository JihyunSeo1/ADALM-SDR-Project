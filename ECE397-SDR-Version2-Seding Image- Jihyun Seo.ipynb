{
 "cells": [
  {
   "cell_type": "code",
   "execution_count": 188,
   "id": "b8074caa-2361-4ad1-b160-a63ed13fc708",
   "metadata": {},
   "outputs": [],
   "source": [
    "## ECE 397 - Individual Study in ECE Problems\n",
    "## Professor: Thomas Moon\n",
    "## Student: Jihyun Seo\n",
    "\n",
    "## This program uses an SDR device to transmit and receive a message wirelessly.\n",
    "## The message (\"Hello world\") is converted to a bitstream using ASCII encoding, then\n",
    "## processed through essential wireless communication stages.\n",
    "\n",
    "## Communication System Overview:\n",
    "## - Modulation: The bitstream is modulated using 4-QAM for simplicity.\n",
    "## - Processing: The system applies pulse shaping, matched filtering, symbol timing recovery, \n",
    "##               frame synchronization, channel equalization, and demodulation.\n",
    "\n",
    "## Objective:\n",
    "## The goal is to successfully transmit \"Hello world\" and accurately recover it at the receiver \n",
    "## by performing these core wireless communication functions.\n"
   ]
  },
  {
   "cell_type": "code",
   "execution_count": 189,
   "id": "d6b20284-30c0-4fa3-9c2c-dd73b9abc326",
   "metadata": {},
   "outputs": [],
   "source": [
    "import numpy as np\n",
    "import matplotlib.pyplot as plt \n",
    "import adi\n",
    "from scipy import signal\n",
    "from PIL import Image"
   ]
  },
  {
   "cell_type": "code",
   "execution_count": 190,
   "id": "e2acdd22-48f0-4668-8dfb-e1a8cca23038",
   "metadata": {},
   "outputs": [],
   "source": [
    "############################## Generate BPSK frame ##########################################################################################  \n",
    "\n",
    "#############  Parameters for generating BPSK symbols ############ \n",
    "sps = 8  # Samples per symbol (upsampling factor)\n",
    "fs = 1e6  # Sampling rate of 1 MHz\n",
    "carrier_freq = 2.4e9  # Carrier frequency of 2 GHz\n",
    "\n",
    "\n",
    "#############  Step 1: Barker-13 Preamble (1s and -1s)\n",
    "barker_13 = np.array([1, 1, 1, 1, 1, -1, -1, 1, 1, -1, 1, -1, 1])\n",
    "\n",
    "#############  Step 2: Generate a guard band (same length as the preamble, filled with zeros)\n",
    "guard_band = np.zeros(len(barker_13))\n",
    "\n",
    "\n"
   ]
  },
  {
   "cell_type": "code",
   "execution_count": 191,
   "id": "949b3cba-dbed-4842-8599-fda2bcd1d1ee",
   "metadata": {},
   "outputs": [
    {
     "name": "stdout",
     "output_type": "stream",
     "text": [
      "Binary Image Array:\n",
      "[[0 0 0 1 0 0 1 0 0 0]\n",
      " [0 0 1 0 1 1 0 1 0 0]\n",
      " [0 1 0 1 0 0 1 0 1 0]\n",
      " [1 0 1 0 1 1 0 1 0 1]\n",
      " [1 0 0 1 0 0 1 0 0 1]\n",
      " [1 0 0 0 1 1 0 0 0 1]\n",
      " [0 1 0 0 0 0 0 0 1 0]\n",
      " [0 0 1 0 0 0 0 1 0 0]\n",
      " [0 0 0 1 0 0 1 0 0 0]\n",
      " [0 0 0 0 1 1 0 0 0 0]]\n",
      "(10, 10)\n"
     ]
    }
   ],
   "source": [
    "#################### Step 1: Import or define image and convert it to bitstream ##################\n",
    "\n",
    "# Load the PNG file\n",
    "image_path = r\"C:\\Users\\Administrator\\Desktop\\ECE 397\\Python Project\\low_res_binary_animal.2.png\"  # Replace with your file path\n",
    "image = Image.open(image_path).convert(\"L\")  # Convert to grayscale\n",
    "\n",
    "# Convert to binary (0 or 1)\n",
    "binary_image = (np.array(image) > 128).astype(np.uint8)  # Threshold at 128\n",
    "\n",
    "# Print the binary image for verification\n",
    "print(\"Binary Image Array:\")\n",
    "print(binary_image)\n",
    "print(binary_image.shape)"
   ]
  },
  {
   "cell_type": "code",
   "execution_count": 192,
   "id": "284e4c2b-b2fe-41da-ae4e-1660aeaf7fd2",
   "metadata": {},
   "outputs": [
    {
     "name": "stdout",
     "output_type": "stream",
     "text": [
      "(100,)\n"
     ]
    }
   ],
   "source": [
    "bitstream = binary_image.flatten()\n",
    "print(bitstream.shape)"
   ]
  },
  {
   "cell_type": "code",
   "execution_count": 193,
   "id": "88ce29eb-88ff-4502-a320-44a3631d10f8",
   "metadata": {},
   "outputs": [],
   "source": [
    "bits = bitstream"
   ]
  },
  {
   "cell_type": "code",
   "execution_count": 194,
   "id": "711ad0e6-d7fa-4439-9e1f-08a507268545",
   "metadata": {},
   "outputs": [],
   "source": [
    "# Step 2: Define modulation parameters\n",
    "M = 2 # 4-QAM\n",
    "bits_per_symbol = int(np.log2(M))\n",
    "num_data_symbols = len(bits) // bits_per_symbol  # Number of symbols that can be formed from bits\n",
    "bits = bits[:num_data_symbols * bits_per_symbol]  # Truncate to fit into complete symbols if needed\n"
   ]
  },
  {
   "cell_type": "code",
   "execution_count": null,
   "id": "df2265aa-6fcd-4a42-acee-25a51dd9d6ba",
   "metadata": {},
   "outputs": [],
   "source": []
  },
  {
   "cell_type": "code",
   "execution_count": 195,
   "id": "9102a546-35de-443b-9e39-0edf182c10e0",
   "metadata": {},
   "outputs": [],
   "source": [
    "############# M-QAM Decision ##################### \n",
    "\n",
    "M = 2 ## M-QAM [ if 2 , it is BPSK ]\n",
    "bits_per_symbol = int(np.log2(M))\n",
    "\n",
    "\n",
    "# Define modulation mappings\n",
    "if M == 2:  # BPSK\n",
    "    # BPSK with Gray coding: 0 -> +1, 1 -> -1\n",
    "    gray_mapping = {\n",
    "        (0,): -1,\n",
    "        (1,): 1\n",
    "    }\n",
    "    normalization_factor = 1\n",
    "\n",
    "elif M == 4:  # 4-QAM\n",
    "    # 4-QAM with Gray coding\n",
    "    gray_mapping = {\n",
    "        (0, 0): -1 - 1j,\n",
    "        (0, 1): 1 - 1j,\n",
    "        (1, 1):  1 + 1j,\n",
    "        (1, 0):  -1 + 1j\n",
    "    }\n",
    "    normalization_factor = np.sqrt(2)\n",
    "\n",
    "elif M == 16:  # 16-QAM\n",
    "    # 16-QAM with Gray coding\n",
    "    gray_mapping = {\n",
    "        (1, 0, 0, 0): -3 + 3j, (1, 0, 0, 1): -1 + 3j,\n",
    "        (1, 0, 1, 1): 1 + 3j, (1, 0, 1, 0): 3 + 3j,\n",
    "        \n",
    "        (1, 1, 0, 0): -3 + 1j, (1, 1, 0, 1): -1 + 1j,\n",
    "        (1, 1, 1, 1): 1 + 1j, (1, 1, 1, 0): 3 + 1j,\n",
    "        \n",
    "        (0, 1, 0, 0):  -3 - 1j, (0, 1, 0, 1):  -1 - 1j,\n",
    "        (0, 1, 1, 1):  1 -1j, (0, 1, 1, 0):  3 - 1j,\n",
    "        \n",
    "        (0, 0, 0, 0):  -3 - 3j, (0, 0, 0, 1):  -1 - 3j,\n",
    "        (0, 0, 1, 1):  1 - 3j, (0, 0, 1, 0):  3 - 3j\n",
    "    }\n",
    "    normalization_factor = np.sqrt(10)   \n",
    "\n",
    "\n",
    "\n",
    "\n"
   ]
  },
  {
   "cell_type": "code",
   "execution_count": 196,
   "id": "b3165121-2fa9-40c9-9ed6-5b80400ee1f7",
   "metadata": {},
   "outputs": [],
   "source": [
    "\n",
    "################# Map bits to symbols #################\n",
    "\n",
    "mqam_symbols = []\n",
    "symbol_labels = []  # To store labels in correct order\n",
    "\n",
    "for i in range(0, len(bits), bits_per_symbol):\n",
    "    # Adjust the order of bits if necessary to align with MSB-LSB orientation\n",
    "    bit_tuple = tuple(bits[i:i + bits_per_symbol])  # Keep the original order without reversing\n",
    "    symbol = gray_mapping[bit_tuple]\n",
    "    \n",
    "    mqam_symbols.append(symbol / normalization_factor)  # Normalize the symbol\n",
    "    symbol_labels.append(\"\".join(map(str, bit_tuple)))  # Save the bit label in correct order\n",
    "\n",
    "# Convert to NumPy array\n",
    "mqam_symbols = np.array(mqam_symbols)\n",
    "\n",
    "\n",
    "# Print mqam_symbols and corresponding labels\n",
    "#print(\"Symbols:\", mqam_symbols)\n",
    "\n",
    "#print(\"\\nLabels:\", symbol_labels)\n",
    "\n",
    "#print(\"\\noriginal bits: \",bits)\n",
    "\n",
    "\n",
    "############ YOUR CODE STOPS HERE ############\n",
    "\n"
   ]
  },
  {
   "cell_type": "code",
   "execution_count": null,
   "id": "12bcf95a-e0b3-46c1-8e96-efcea76bd32d",
   "metadata": {},
   "outputs": [],
   "source": []
  },
  {
   "cell_type": "code",
   "execution_count": 197,
   "id": "d3611225-5b42-429b-8143-e20c14d34b40",
   "metadata": {},
   "outputs": [],
   "source": [
    "#############  Step 5: Create a full frame: Preamble + Guard Band + Data Symbols\n",
    "frame = np.concatenate((barker_13,barker_13, guard_band, mqam_symbols))\n",
    "#print(frame)  #check if frame is good\n",
    "\n",
    "\n"
   ]
  },
  {
   "cell_type": "code",
   "execution_count": 198,
   "id": "cb3e9fe5-79cf-4b46-84a8-9b92dff74130",
   "metadata": {},
   "outputs": [],
   "source": [
    "#############  Step 6: Upsample the full frame by sps (insert sps-1 zeros between each symbol)\n",
    "up_sym = np.zeros(len(frame) * sps, dtype = complex)  # Create an array of zeros\n",
    "up_sym[::sps] = frame  # Insert symbols into every sps-th position\n",
    "#print(len(up_sym)) = 336  = 42 * 8 = symbols * samples (upsampling factor)\n",
    "\n"
   ]
  },
  {
   "cell_type": "code",
   "execution_count": 199,
   "id": "0e32f2cb-10e1-4b5d-9b9c-6d752c79ffd1",
   "metadata": {},
   "outputs": [],
   "source": [
    "######################### Set up PlutoSDR Tx and Rx ######################## \n",
    "# Transmit settings\n",
    "sdr = adi.Pluto(\"ip:192.168.2.1\")\n",
    "sdr.sample_rate = int(fs)\n",
    "\n",
    "# Config Tx\n",
    "# filter cutoff, just set it to the same as sample rate, valid range is 200 kHz to 20 MHz\n",
    "sdr.tx_rf_bandwidth = int(fs) \n",
    "# set carrier frequency, valid range is 380 MHz to 3.8GHz\n",
    "sdr.tx_lo = int(carrier_freq)\n",
    "# set tx power, valid range is -90 to 0 dB\n",
    "sdr.tx_hardwaregain_chan0 = -50\n",
    "\n",
    "# Config Rx\n",
    "sdr.rx_lo = int(carrier_freq)\n",
    "sdr.rx_rf_bandwidth = int(fs)\n",
    "sdr.rx_buffer_size = 128\n",
    "sdr.gain_control_mode_chan0 = 'manual'\n",
    "sdr.rx_hardwaregain_chan0 = 30.0\n",
    "\n",
    "\n"
   ]
  },
  {
   "cell_type": "code",
   "execution_count": 200,
   "id": "6dcd70c9-b5fd-45cd-8a41-1323ee6f21af",
   "metadata": {},
   "outputs": [],
   "source": [
    "############# Define RRC Filter ###################\n",
    "\n",
    "def rrcosfilter(N, alpha, Ts, Fs):\n",
    "    \"\"\"\n",
    "    Generates a root raised cosine (RRC) filter (FIR) impulse response.\n",
    "\n",
    "    Parameters\n",
    "    ----------\n",
    "    N : int\n",
    "        Length of the filter in samples.\n",
    "\n",
    "    alpha : float\n",
    "        Roll off factor (Valid values are [0, 1]).\n",
    "\n",
    "    Ts : float\n",
    "        Symbol period in seconds.\n",
    "\n",
    "    Fs : float\n",
    "        Sampling Rate in Hz.\n",
    "\n",
    "    Returns\n",
    "    ---------\n",
    "\n",
    "    time_idx : 1-D ndarray of floats\n",
    "        Array containing the time indices, in seconds, for\n",
    "        the impulse response.\n",
    "\n",
    "    h_rrc : 1-D ndarray of floats\n",
    "        Impulse response of the root raised cosine filter.\n",
    "    \"\"\"\n",
    "\n",
    "    T_delta = 1/float(Fs)\n",
    "    time_idx = ((np.arange(N)-N/2))*T_delta\n",
    "    sample_num = np.arange(N)\n",
    "    h_rrc = np.zeros(N, dtype=float)\n",
    "\n",
    "    for x in sample_num:\n",
    "        t = (x-N/2)*T_delta\n",
    "        if t == 0.0:\n",
    "            h_rrc[x] = 1.0 - alpha + (4*alpha/np.pi)\n",
    "        elif alpha != 0 and t == Ts/(4*alpha):\n",
    "            h_rrc[x] = (alpha/np.sqrt(2))*(((1+2/np.pi)* \\\n",
    "                    (np.sin(np.pi/(4*alpha)))) + ((1-2/np.pi)*(np.cos(np.pi/(4*alpha)))))\n",
    "        elif alpha != 0 and t == -Ts/(4*alpha):\n",
    "            h_rrc[x] = (alpha/np.sqrt(2))*(((1+2/np.pi)* \\\n",
    "                    (np.sin(np.pi/(4*alpha)))) + ((1-2/np.pi)*(np.cos(np.pi/(4*alpha)))))\n",
    "        else:\n",
    "            h_rrc[x] = (np.sin(np.pi*t*(1-alpha)/Ts) +  \\\n",
    "                    4*alpha*(t/Ts)*np.cos(np.pi*t*(1+alpha)/Ts))/ \\\n",
    "                    (np.pi*t*(1-(4*alpha*t/Ts)*(4*alpha*t/Ts))/Ts)\n",
    "\n",
    "    return time_idx, h_rrc\n",
    "\n",
    "\n",
    "\n",
    "##################### Corrected part as of Oct 2nd ####################################\n",
    "#len(frame) = 42 = len(barker) + len(guard) + len(symbols) = 13 + 13 + 16\n",
    "\n",
    "N = len(frame) * sps   # Filter length in terms of samples per symbol = length of upsampled symbol for frame\n",
    "alpha = 1  # Roll-off factor \n",
    "f_sym = fs/sps   # Symbol rate =  [fs] /[sps]  sampling rate / number of samples\n",
    "                 # sampling rate = symbol_rate * number of samples ( symbol factor)\n",
    "\n",
    "# Calculate Ts (symbol period) and Fs (sampling rate)\n",
    "Ts = 1 / f_sym         # Symbol period in seconds (1 microsecond for 1 MHz)\n",
    "Fs = sps * f_sym       # Sampling rate in Hz  = number of samples * symbol rate\n",
    "\n",
    "time_idx, rrc_filter = rrcosfilter(N, alpha, Ts, Fs)\n",
    "\n",
    "##################### Corrected part as of Oct 2nd ends ####################################"
   ]
  },
  {
   "cell_type": "code",
   "execution_count": 201,
   "id": "7d9853db-2ac4-4615-aab9-d8cea5e1d4e7",
   "metadata": {},
   "outputs": [],
   "source": [
    "# Pulse shaping by convolving upsampled symbols with RRC filter\n",
    "your_Tx_samples = np.convolve(up_sym, rrc_filter, mode='same')\n"
   ]
  },
  {
   "cell_type": "code",
   "execution_count": 202,
   "id": "17c4f96a-88ce-4101-a258-0065f857a3e2",
   "metadata": {},
   "outputs": [],
   "source": [
    "############## Scale and transmit pulse-shaped samples #####################\n",
    "tx_samples = your_Tx_samples * 2**14  # Scale for SDR transmission\n",
    "sdr.tx_cyclic_buffer = True # Enable continuous transmission\n",
    "sdr.tx(tx_samples)\n",
    "\n"
   ]
  },
  {
   "cell_type": "code",
   "execution_count": 203,
   "id": "7d85e904-4524-418b-96d7-e4445cff3fb0",
   "metadata": {},
   "outputs": [],
   "source": [
    "###################### Receive samples #########################\n",
    "sdr.rx_buffer_size = 2 * tx_samples.size  # Set buffer size for reception\n",
    "\n",
    "# Clear the buffer to avoid stale data\n",
    "for i in range(5):\n",
    "    sdr.rx()  # Clear stale buffer data\n",
    "\n",
    "# Receive the transmitted signal\n",
    "rx_samples_raw = sdr.rx()\n",
    "rx_samples = rx_samples_raw * 2**-14  # Scale received samples back down\n",
    "\n",
    "# Stop transmitting\n",
    "sdr.tx_destroy_buffer()\n"
   ]
  },
  {
   "cell_type": "code",
   "execution_count": 204,
   "id": "4c4e4799-af4b-4012-8a21-b03993db1b15",
   "metadata": {},
   "outputs": [],
   "source": [
    "\n",
    "#########################   Apply matched filtering using the same RRC filter ########################  \n",
    "rx_matched = np.convolve(rx_samples, rrc_filter, mode='same')\n"
   ]
  },
  {
   "cell_type": "code",
   "execution_count": 205,
   "id": "1dfed1c5-6890-4eef-ab8f-1d4289d4d712",
   "metadata": {},
   "outputs": [],
   "source": [
    "######################### Time recovery for rx_matched ######################## \n",
    "\n",
    "\n",
    "# Maximum energy approach for symbol timing recovery\n",
    "energy = np.zeros(sps)\n",
    "\n",
    "# Compute the energy across different offsets\n",
    "for k in range(sps):\n",
    "    # Take every sps-th sample starting from the k-th sample and compute energy\n",
    "    energy[k] = np.sum(np.abs(rx_samples[k::sps])**2)  # Sum of squared magnitudes\n",
    "\n",
    "# Find the offset that maximizes the energy\n",
    "max_ind = np.argmax(energy)\n",
    "\n",
    "# Align the samples using the offset with the maximum energy\n",
    "rx_align = rx_samples[max_ind:] \n",
    "\n",
    "\n",
    "# covnert align to symbol\n",
    "##################################################################################################  \n",
    "\n",
    "############ Downsampling (Must be done after Time recovery but before frame synch) to covnert samples to symbols ####################\n",
    "\n",
    "rx_align_symbol = rx_align[::sps]\n",
    "\n",
    "# Not doing downsampling\n",
    "#rx_align_symbol = rx_align"
   ]
  },
  {
   "cell_type": "code",
   "execution_count": 206,
   "id": "ec37784b-b927-445f-9faf-ea9fddd10c5e",
   "metadata": {},
   "outputs": [],
   "source": [
    "####################### Lab 8 : Self-reference frame synch ################################################\n",
    "\n",
    "rx_cfo = rx_align_symbol\n",
    "\n",
    "####################### Self-reference frame synch ########################\n",
    "\n",
    "num_symbols = len(mqam_symbols)\n",
    "\n",
    "\n",
    "from scipy.signal import find_peaks\n",
    "\n",
    "# Define Barker sequence length\n",
    "N = len(barker_13)  # Barker-13 sequence length\n",
    "\n",
    "######### Self-reference frame sync ##############\n",
    "corr = np.zeros(rx_cfo.size - 2 * N + 1)\n",
    "for n in range(len(corr)):\n",
    "    # Compute the correlation for each possible start position\n",
    "    corr[n] = np.abs(np.sum(np.conj(rx_cfo[n:n+N]) * rx_cfo[n+N:n+2*N]))\n",
    "\n",
    "# Use find_peaks to detect the peak\n",
    "# Limit the range to look for peaks within the first 60 indices\n",
    "limited_corr = corr[:9999]  # Slice to limit to the first 60 indices\n",
    "peaks, _ = find_peaks(limited_corr)\n",
    "\n",
    "# Identify the first occurrence of the highest peak\n",
    "max_peak_value = np.max(limited_corr[peaks])  # Maximum peak value in correlation\n",
    "first_highest_peak = peaks[np.where(limited_corr[peaks] == max_peak_value)[0][0]]  # First occurrence of max peak\n",
    "\n",
    "# Now set peak_index to this first highest peak\n",
    "peak_index = first_highest_peak\n",
    "\n",
    "# Find out the frame, then split it into preamble and data (no need to adjust `peak_index`) why?\n",
    "rx_frame = rx_cfo[peak_index:peak_index + 2 * N + len(guard_band) + num_symbols]\n",
    "rx_preamble = rx_frame[ : 2 * N]  # First two Barker sequences\n",
    "rx_data = rx_frame[2 * N + len(guard_band):]  # Data symbols after preamble and guard band\n",
    "\n"
   ]
  },
  {
   "cell_type": "code",
   "execution_count": 207,
   "id": "80a07e77-108f-4345-a15c-5df7b3ffd39a",
   "metadata": {},
   "outputs": [
    {
     "data": {
      "image/png": "[encoded data removed]",
      "text/plain": [
       "<Figure size 1000x400 with 1 Axes>"
      ]
     },
     "metadata": {},
     "output_type": "display_data"
    },
    {
     "name": "stdout",
     "output_type": "stream",
     "text": [
      "Peak index of highest peak: 46\n",
      "Value of highest peak: 7.194537717295417e-07\n"
     ]
    }
   ],
   "source": [
    "####################### Lab 8 : Self-reference frame synch ################################################\n",
    "# Plot cross-correlation\n",
    "plt.figure(figsize=(10, 4))\n",
    "plt.plot(corr, label='Self-Cross-correlation [DBPSK]')  # Plot the entire correlation\n",
    "plt.plot(peak_index, corr[peak_index], 'rx', label='Highest Peak', markersize=10)  # Mark only the highest peak\n",
    "plt.title('Detected Highest Peak in Cross-correlation')\n",
    "plt.xlabel('Symbol Index')\n",
    "plt.ylabel('Amplitude')\n",
    "plt.grid(True)\n",
    "plt.legend()\n",
    "plt.show()\n",
    "\n",
    "print(\"Peak index of highest peak:\", peak_index)\n",
    "print(\"Value of highest peak:\", corr[peak_index])"
   ]
  },
  {
   "cell_type": "code",
   "execution_count": 208,
   "id": "17fd8d1e-b83f-40c8-8454-5a3a126a1ddf",
   "metadata": {},
   "outputs": [
    {
     "name": "stdout",
     "output_type": "stream",
     "text": [
      "Estimated CFO (Hz): 443.8407617869259\n",
      "Angle_A :  -0.036253538791431096\n"
     ]
    }
   ],
   "source": [
    "########################################## LAB 8 - Estimate CFO ###################################################\n",
    "######################### Estimate CFO ##################################\n",
    "\n",
    "# Step 1: Compute A\n",
    "N = len(barker_13)\n",
    "A = np.sum(np.conj(rx_preamble[:N]) * rx_preamble[N:2*N]) \n",
    "\n",
    "# Step 2: Estimate CFO\n",
    "# symbol rate = 1/sampling rate <- as it is symbol originally\n",
    "T_s = 1/fs\n",
    "\n",
    "angle_A = np.angle(A)  # Extract the phase angle of A\n",
    "delta_fc = -angle_A / (2 * np.pi * N * T_s)  # CFO in Hz\n",
    "\n",
    "# Print results\n",
    "print(f\"Estimated CFO (Hz): {delta_fc}\")\n",
    "\n",
    "print(\"Angle_A : \",angle_A)"
   ]
  },
  {
   "cell_type": "code",
   "execution_count": 209,
   "id": "48ca2876-2de7-4ad0-a646-ac6215e7d6eb",
   "metadata": {},
   "outputs": [
    {
     "name": "stdout",
     "output_type": "stream",
     "text": [
      "Maximum Detectable CFO Range: (-38461.53846153846, 38461.53846153846)\n"
     ]
    }
   ],
   "source": [
    "########################################## LAB 8 - Estimate CFO ##################################################\n",
    "# Step 3: Compute the maximum detectable CFO range\n",
    "max_cfo_range = 1 / (2 * N * T_s)\n",
    "cfo_range = (-max_cfo_range, max_cfo_range)\n",
    "\n",
    "print(f\"Maximum Detectable CFO Range: {cfo_range}\")"
   ]
  },
  {
   "cell_type": "code",
   "execution_count": 210,
   "id": "3552442d-3bb1-4429-beb6-f70ce015e15e",
   "metadata": {},
   "outputs": [],
   "source": [
    "########################################## LAB 8 - Estimate CFO ##################################################\n",
    "# CFO Correction\n",
    "rx_preamble_cor_afterCFO = np.zeros(len(rx_preamble), dtype=complex)\n",
    "rx_data_cor_afterCFO = np.zeros(len(rx_data), dtype=complex)\n",
    "rx_frame_cor_afterCFO = np.zeros(len(rx_frame), dtype=complex)\n",
    "\n",
    "\n",
    "\n",
    "# Assuming delta_fc (estimated CFO in Hz) and T_s (symbol period) are defined\n",
    "for k in range(len(rx_frame)):\n",
    "    rx_frame_cor_afterCFO[k] = rx_frame[k] * np.exp(1j * 2 * np.pi * delta_fc * k * T_s)  # Apply CFO correction\n",
    "\n",
    "rx_preamble_cor_afterCFO = rx_frame_cor_afterCFO[:len(rx_preamble)]\n",
    "rx_data_cor_afterCFO = rx_frame_cor_afterCFO[-len(rx_data):] # from right, starting at len(rx_data) shift left\n",
    "\n"
   ]
  },
  {
   "cell_type": "code",
   "execution_count": 211,
   "id": "5d1db46d-c32a-46ce-bc99-5f27ae149d90",
   "metadata": {},
   "outputs": [
    {
     "data": {
      "image/png": "[encoded data removed]",
      "text/plain": [
       "<Figure size 600x600 with 1 Axes>"
      ]
     },
     "metadata": {},
     "output_type": "display_data"
    }
   ],
   "source": [
    "#Assignment 2-1: Plot the IQ constellation After CFO correction\n",
    "\n",
    "plt.figure(figsize=(6, 6))\n",
    "plt.plot(rx_data_cor_afterCFO.real, rx_data_cor_afterCFO.imag, '.', color='blue')  # Plot I vs Q components\n",
    "plt.xlabel('In-phase (I)')\n",
    "plt.ylabel('Quadrature (Q)')\n",
    "plt.title('Received Data IQ Constellation [after CFO correction ]')\n",
    "plt.grid(True)\n",
    "\n",
    "# Set equal aspect ratio for better visualization\n",
    "ax = plt.gca()\n",
    "ax.set_aspect('equal', adjustable='datalim')\n",
    "plt.show()\n",
    "############ YOUR CODE STOPS HERE ############\n",
    "\n",
    "\n",
    "############## CFO DONE #######################"
   ]
  },
  {
   "cell_type": "code",
   "execution_count": 212,
   "id": "81bfac4d-c618-4bc6-9ecc-a84e7b0f838d",
   "metadata": {},
   "outputs": [],
   "source": [
    "############ Channel Estimation: Lab 7 ############\n",
    "# Channel Estimation: \n",
    "\n",
    "def estimate_h(rx_preamble, tx_preamble, L):\n",
    "    \"\"\"\n",
    "    Estimate the channel response h.\n",
    "\n",
    "    Parameters\n",
    "    ----------\n",
    "    rx_preamble : 1-D ndarray of complex floats\n",
    "        The received preamble.\n",
    "\n",
    "    tx_preamble : 1-D ndarray of floats\n",
    "        The original preamble sent from Tx.\n",
    "\n",
    "    L : int\n",
    "        The length of the channel.\n",
    "\n",
    "    Returns\n",
    "    -------\n",
    "    hhat : 1-D ndarray of complex floats\n",
    "        The estimated channel (in time-domain).\n",
    "    \"\"\"\n",
    "    N = tx_preamble.size\n",
    "    A = np.zeros((N - L + 1, L), dtype=complex)\n",
    "    \n",
    "    # Build the matrix A using delayed versions of the Tx preamble\n",
    "    for k in range(N - L + 1):\n",
    "        A[k, :] = np.flip(tx_preamble[k:k+L])\n",
    "    \n",
    "    # Received preamble symbols for estimation\n",
    "    y = rx_preamble[L-1:N]\n",
    "    \n",
    "    # Least Squares solution to estimate the channel\n",
    "    hhat = np.linalg.lstsq(A, y, rcond=None)[0]\n",
    "    \n",
    "    return hhat\n",
    "############ YOUR CODE ENDS HERE ############"
   ]
  },
  {
   "cell_type": "code",
   "execution_count": 213,
   "id": "62f8eff6-7ae7-4197-9391-43e3e86e163c",
   "metadata": {},
   "outputs": [],
   "source": [
    "# Step 8: Estimate the channel using the preamble  \n",
    "L = 1\n",
    "tx_preamble = np.concatenate((barker_13, barker_13,))\n",
    "hhat = estimate_h(rx_preamble_cor_afterCFO, tx_preamble, L)"
   ]
  },
  {
   "cell_type": "code",
   "execution_count": 214,
   "id": "df3c6709-53b2-4645-9418-0eb12bfa7804",
   "metadata": {},
   "outputs": [],
   "source": [
    "################################# Channel Equalization : Lab 7 ###########################################\n",
    "# Step 9: Correct channel by simple division\n",
    "rx_data_corrected_afterChannelEQ = rx_data_cor_afterCFO / hhat  # Apply the inverse of the estimated channel\n"
   ]
  },
  {
   "cell_type": "code",
   "execution_count": 215,
   "id": "6477b0ec-408b-44cb-ac29-5ee784d25a09",
   "metadata": {},
   "outputs": [
    {
     "data": {
      "image/png": "[encoded data removed]",
      "text/plain": [
       "<Figure size 600x600 with 1 Axes>"
      ]
     },
     "metadata": {},
     "output_type": "display_data"
    }
   ],
   "source": [
    "#Assignment 2-1: Plot the IQ constellation After CFO correction\n",
    "\n",
    "plt.figure(figsize=(6, 6))\n",
    "plt.plot(rx_data_corrected_afterChannelEQ.real, rx_data_corrected_afterChannelEQ.imag, '.', color='blue')  # Plot I vs Q components\n",
    "plt.xlabel('In-phase (I)')\n",
    "plt.ylabel('Quadrature (Q)')\n",
    "plt.title('Received Data IQ Constellation [AFTER channel EQ -4-QAM]')\n",
    "plt.grid(True)\n",
    "\n",
    "# Set equal aspect ratio for better visualization\n",
    "ax = plt.gca()\n",
    "ax.set_aspect('equal', adjustable='datalim')\n",
    "plt.show()\n",
    "############ YOUR CODE STOPS HERE ############\n",
    "\n",
    "\n",
    "#print(\"Value of data_corrected_afterChannel EQ\" , rx_data_corrected_afterChannelEQ )\n",
    "#print(\"original mqam_symbols:\", mqam_symbols)"
   ]
  },
  {
   "cell_type": "code",
   "execution_count": 216,
   "id": "f5076ffd-8b3c-411a-900f-bb7b1ea2d435",
   "metadata": {},
   "outputs": [
    {
     "name": "stdout",
     "output_type": "stream",
     "text": [
      "Transmitted bits: [0 0 0 1 0 0 1 0 0 0 0 0 1 0 1 1 0 1 0 0 0 1 0 1 0 0 1 0 1 0 1 0 1 0 1 1 0\n",
      " 1 0 1 1 0 0 1 0 0 1 0 0 1 1 0 0 0 1 1 0 0 0 1 0 1 0 0 0 0 0 0 1 0 0 0 1 0\n",
      " 0 0 0 1 0 0 0 0 0 1 0 0 1 0 0 0 0 0 0 0 1 1 0 0 0 0]\n",
      "Demodulated bits: [0 0 0 1 0 0 1 0 0 0 0 0 1 0 1 1 0 1 0 0 0 1 0 1 0 0 1 0 1 0 1 0 1 0 1 1 0\n",
      " 1 0 1 1 0 0 1 0 0 1 0 0 1 1 0 0 0 1 1 0 0 0 1 0 1 0 0 0 0 0 0 1 0 0 0 1 0\n",
      " 0 0 0 1 0 0 0 0 0 1 0 0 1 0 0 0 0 0 0 0 1 1 0 0 0 0]\n",
      "BER: 0.0\n",
      "[-1. -1. -1.  1. -1. -1.  1. -1. -1. -1. -1. -1.  1. -1.  1.  1. -1.  1.\n",
      " -1. -1. -1.  1. -1.  1. -1. -1.  1. -1.  1. -1.  1. -1.  1. -1.  1.  1.\n",
      " -1.  1. -1.  1.  1. -1. -1.  1. -1. -1.  1. -1. -1.  1.  1. -1. -1. -1.\n",
      "  1.  1. -1. -1. -1.  1. -1.  1. -1. -1. -1. -1. -1. -1.  1. -1. -1. -1.\n",
      "  1. -1. -1. -1. -1.  1. -1. -1. -1. -1. -1.  1. -1. -1.  1. -1. -1. -1.\n",
      " -1. -1. -1. -1.  1.  1. -1. -1. -1. -1.]\n",
      "Value of data_corrected_afterChannel EQ [-0.7795613 +0.04511567j -0.53410322-0.23126702j -1.0397344 +0.05435602j\n",
      "  1.03988195-0.05145627j -0.78001605+0.03641709j -1.05156666-0.2143826j\n",
      "  1.04027604-0.0427547j  -0.52019561+0.01992674j -0.52948715-0.2416486j\n",
      " -0.52029866+0.01702508j -0.52034412+0.01557404j -0.78057829+0.02118432j\n",
      "  1.30739302+0.22853243j -1.04652252-0.23778762j  1.30121367-0.02442196j\n",
      "  1.30127672-0.02079313j -0.78079779+0.01029848j  1.04109796-0.01082801j\n",
      " -0.78282424-0.25433756j -0.78211192-0.25651965j -0.78139351-0.25869975j\n",
      "  1.30144246+0.00098225j -0.7808608 -0.00276697j  1.29976855+0.2685243j\n",
      " -0.52055548-0.00474809j -0.78081032-0.00929964j  1.30130225+0.01912845j\n",
      " -1.04099508-0.01820588j  1.03566304+0.28134393j -1.03487442-0.28423102j\n",
      "  1.04080634+0.02691432j -1.04072723-0.02981674j  1.04064003+0.03271894j\n",
      " -1.04054474-0.03562087j  1.3005517 +0.04815317j  1.02997391+0.30150636j\n",
      " -0.78015774-0.0332437j   1.02827626+0.30724629j -1.03994692-0.05012595j\n",
      "  1.02654662+0.31297666j  1.02566982+0.3158382j  -0.77961838-0.04411838j\n",
      " -0.77949231-0.04629235j  1.29893364+0.0807766j  -0.76234226-0.31037986j\n",
      " -0.76147373-0.31250462j  1.27988423+0.35128327j -0.75971891-0.31674684j\n",
      " -0.77860865-0.05932804j  1.25640086+0.62145868j  1.01646427+0.34431489j\n",
      " -1.03744674-0.08778651j -1.29649736-0.11334916j -1.01354812-0.35280669j\n",
      "  1.08490741-0.42187517j  0.75246386+0.33361584j -1.03612186-0.10224332j\n",
      " -0.75059143-0.33780747j -1.00853033-0.36690451j  1.03523022+0.11090805j\n",
      " -1.0349169 -0.11379459j  1.03459554+0.11668026j -0.77569959-0.08967376j\n",
      " -0.51696433-0.06122442j -0.51679159-0.06266585j -0.51661482-0.0641068j\n",
      " -0.80742467+0.15989614j -0.77437385-0.10048079j  1.25593773+0.42909673j\n",
      " -0.80873412+0.15313555j -0.80915803+0.15087961j -0.77320483-0.10911245j\n",
      "  1.25107314+0.44307965j -0.77258424-0.11342325j -0.51484329-0.07705156j\n",
      " -0.51462641-0.07848702j -0.77160829-0.1198828j   1.28545162+0.20339024j\n",
      " -0.77092765-0.12418454j -0.98532646-0.42530473j -0.8130505 +0.1282586j\n",
      " -0.51324115-0.08708657j -0.76949445-0.13277628j  0.98052101+0.43626929j\n",
      " -0.51249462-0.09137735j -0.7683567 -0.1392093j   1.23282532+0.49157433j\n",
      " -1.02342442-0.19132347j -0.81570936+0.11008914j -0.8160132 +0.10781392j\n",
      " -0.76634098-0.14990913j -0.56129518+0.15394287j -0.81688662+0.10098329j\n",
      " -0.81716506+0.09870483j  0.91386273+0.72101156j  0.96537508+0.46883185j\n",
      " -0.76372548-0.16271028j -0.50884584-0.10989298j -0.76280609-0.16696738j\n",
      " -0.7623375 -0.16909399j]\n"
     ]
    }
   ],
   "source": [
    "####################### Demodulation ##########################\n",
    "###################### YOUR CODE STARTS HERE #################\n",
    "# Implement Demodulation to retrieve bits from symbols\n",
    "# Input: mqam_symbols (received symbols after transmission, possibly with noise)\n",
    "# Output: demod_bits (demodulated bit sequence that should match the transmitted bits)\n",
    "\n",
    "# Initialize an empty list to store the demodulated bits\n",
    "demod_bits = []\n",
    "\n",
    "# Iterate over each received symbol in the `mqam_symbols` array\n",
    "for symbol in rx_data_corrected_afterChannelEQ :\n",
    "    # Initialize minimum distance to infinity for each symbol\n",
    "    # This ensures that any calculated distance will be smaller initially\n",
    "    min_distance = float('inf')\n",
    "    \n",
    "    # Initialize closest_bits to None; this will hold the bits of the closest constellation point\n",
    "    closest_bits = None\n",
    "    \n",
    "    # Iterate over each possible constellation point in the gray_mapping\n",
    "    # gray_mapping contains bit patterns as keys and complex symbols as values\n",
    "    for bits_tuple, mapped_symbol in gray_mapping.items():\n",
    "        \n",
    "        # Calculate the Euclidean distance between the received symbol and the current constellation point\n",
    "        # Normalization factor is applied to match the scale used in modulation\n",
    "        distance = abs(symbol - mapped_symbol / normalization_factor)\n",
    "        \n",
    "        # Check if the calculated distance is the smallest one found so far\n",
    "        if distance < min_distance:\n",
    "            \n",
    "            # Update min_distance to the new smaller distance\n",
    "            min_distance = distance\n",
    "            \n",
    "            # Store the corresponding bit pattern of the closest constellation point\n",
    "            closest_bits = bits_tuple\n",
    "\n",
    "    \n",
    "    # After finding the closest constellation point for this symbol,\n",
    "    # append its corresponding bit pattern to demod_bits\n",
    "    # closest_bits is a tuple, so extend() adds each bit individually to demod_bits\n",
    "    demod_bits.extend(closest_bits)\n",
    "\n",
    "\n",
    "# Convert the list of demodulated bits to a NumPy array for easier processing and comparison\n",
    "# This is useful for calculating metrics like BER (Bit Error Rate) or for other analysis\n",
    "demod_bits = np.array(demod_bits)\n",
    "\n",
    "\n",
    "# At this point, `demod_bits` contains the reconstructed bitstream, with each received symbol\n",
    "# mapped to the closest constellation point based on minimum Euclidean distance.\n",
    "\n",
    "\n",
    "\n",
    "################## YOUR CODE STOPS HERE ############\n",
    "\n",
    "# BER Calculation\n",
    "print('Transmitted bits:', bits)\n",
    "print('Demodulated bits:', demod_bits)\n",
    "bit_err_rate = np.sum(np.abs(bits - demod_bits)) / bits.size\n",
    "print('BER:', bit_err_rate)\n",
    "\n",
    "\n",
    "print(mqam_symbols)\n",
    "\n",
    "print(\"Value of data_corrected_afterChannel EQ\" , rx_data_corrected_afterChannelEQ )\n"
   ]
  },
  {
   "cell_type": "code",
   "execution_count": 217,
   "id": "28b47054-11e4-4ed9-a141-9440dc0b2d23",
   "metadata": {},
   "outputs": [],
   "source": [
    "# Reshape the received bitstream back into the original 2D array shape\n",
    "received_bitstream = demod_bits # Replace with your received demodulated bitstream\n",
    "received_binary_image = np.reshape(received_bitstream, binary_image.shape)\n",
    "\n",
    "# Convert the binary array back into an image\n",
    "received_image = Image.fromarray(received_binary_image * 255)  # Scale back to 0-255\n",
    "received_image.show()  # Display the reconstructed image\n"
   ]
  },
  {
   "cell_type": "code",
   "execution_count": null,
   "id": "1d687728-ce0f-4cd7-8150-6c8b33a643c7",
   "metadata": {},
   "outputs": [],
   "source": []
  },
  {
   "cell_type": "code",
   "execution_count": null,
   "id": "135f8376-d8c1-4a5a-b366-f830c54423ea",
   "metadata": {},
   "outputs": [],
   "source": []
  }
 ],
 "metadata": {
  "kernelspec": {
   "display_name": "Python 3 (ipykernel)",
   "language": "python",
   "name": "python3"
  },
  "language_info": {
   "codemirror_mode": {
    "name": "ipython",
    "version": 3
   },
   "file_extension": ".py",
   "mimetype": "text/x-python",
   "name": "python",
   "nbconvert_exporter": "python",
   "pygments_lexer": "ipython3",
   "version": "3.12.3"
  }
 },
 "nbformat": 4,
 "nbformat_minor": 5
}
